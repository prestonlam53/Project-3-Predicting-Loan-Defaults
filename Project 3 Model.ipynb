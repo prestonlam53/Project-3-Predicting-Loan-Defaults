{
 "cells": [
  {
   "cell_type": "code",
   "execution_count": 8,
   "metadata": {},
   "outputs": [],
   "source": [
    "#take in X_train, filter only for relevant columns\n",
    "import pandas as pd\n",
    "import numpy as np\n",
    "df = pd.read_pickle('credit_card_df.pkl')\n",
    "model_df = df[['pay_0', 'pay_2', 'max_bill_to_cred_lim', 'adjusted_bill_var',\n",
    "       'Total_Pay_Amt', 'avg_bill_amt', 'adjusted_pay_variance', 'age',\n",
    "       'paid_limit_ratio', 'default_payment']]\n",
    "\n",
    "#'pay_2',"
   ]
  },
  {
   "cell_type": "code",
   "execution_count": 9,
   "metadata": {},
   "outputs": [],
   "source": [
    "model_df = model_df.apply(pd.to_numeric, errors='coerce')\n"
   ]
  },
  {
   "cell_type": "code",
   "execution_count": 10,
   "metadata": {},
   "outputs": [
    {
     "data": {
      "text/html": [
       "<div>\n",
       "<style scoped>\n",
       "    .dataframe tbody tr th:only-of-type {\n",
       "        vertical-align: middle;\n",
       "    }\n",
       "\n",
       "    .dataframe tbody tr th {\n",
       "        vertical-align: top;\n",
       "    }\n",
       "\n",
       "    .dataframe thead th {\n",
       "        text-align: right;\n",
       "    }\n",
       "</style>\n",
       "<table border=\"1\" class=\"dataframe\">\n",
       "  <thead>\n",
       "    <tr style=\"text-align: right;\">\n",
       "      <th></th>\n",
       "      <th>pay_0</th>\n",
       "      <th>pay_2</th>\n",
       "      <th>max_bill_to_cred_lim</th>\n",
       "      <th>adjusted_bill_var</th>\n",
       "      <th>Total_Pay_Amt</th>\n",
       "      <th>avg_bill_amt</th>\n",
       "      <th>adjusted_pay_variance</th>\n",
       "      <th>age</th>\n",
       "      <th>paid_limit_ratio</th>\n",
       "      <th>default_payment</th>\n",
       "    </tr>\n",
       "  </thead>\n",
       "  <tbody>\n",
       "    <tr>\n",
       "      <th>0</th>\n",
       "      <td>2</td>\n",
       "      <td>2</td>\n",
       "      <td>0.195650</td>\n",
       "      <td>3.047508</td>\n",
       "      <td>689.0</td>\n",
       "      <td>1284.000000</td>\n",
       "      <td>0.536604</td>\n",
       "      <td>24</td>\n",
       "      <td>0.034450</td>\n",
       "      <td>1</td>\n",
       "    </tr>\n",
       "    <tr>\n",
       "      <th>1</th>\n",
       "      <td>-1</td>\n",
       "      <td>2</td>\n",
       "      <td>0.028792</td>\n",
       "      <td>0.607835</td>\n",
       "      <td>5000.0</td>\n",
       "      <td>2846.166667</td>\n",
       "      <td>0.702700</td>\n",
       "      <td>26</td>\n",
       "      <td>0.041667</td>\n",
       "      <td>1</td>\n",
       "    </tr>\n",
       "    <tr>\n",
       "      <th>2</th>\n",
       "      <td>0</td>\n",
       "      <td>0</td>\n",
       "      <td>0.324878</td>\n",
       "      <td>0.925501</td>\n",
       "      <td>11018.0</td>\n",
       "      <td>16942.166667</td>\n",
       "      <td>0.236097</td>\n",
       "      <td>34</td>\n",
       "      <td>0.122422</td>\n",
       "      <td>0</td>\n",
       "    </tr>\n",
       "    <tr>\n",
       "      <th>3</th>\n",
       "      <td>0</td>\n",
       "      <td>0</td>\n",
       "      <td>0.985820</td>\n",
       "      <td>0.544070</td>\n",
       "      <td>8388.0</td>\n",
       "      <td>38555.666667</td>\n",
       "      <td>0.026429</td>\n",
       "      <td>37</td>\n",
       "      <td>0.167760</td>\n",
       "      <td>0</td>\n",
       "    </tr>\n",
       "    <tr>\n",
       "      <th>4</th>\n",
       "      <td>-1</td>\n",
       "      <td>0</td>\n",
       "      <td>0.716700</td>\n",
       "      <td>1.655311</td>\n",
       "      <td>59049.0</td>\n",
       "      <td>18223.166667</td>\n",
       "      <td>1.975617</td>\n",
       "      <td>57</td>\n",
       "      <td>1.180980</td>\n",
       "      <td>0</td>\n",
       "    </tr>\n",
       "    <tr>\n",
       "      <th>...</th>\n",
       "      <td>...</td>\n",
       "      <td>...</td>\n",
       "      <td>...</td>\n",
       "      <td>...</td>\n",
       "      <td>...</td>\n",
       "      <td>...</td>\n",
       "      <td>...</td>\n",
       "      <td>...</td>\n",
       "      <td>...</td>\n",
       "      <td>...</td>\n",
       "    </tr>\n",
       "    <tr>\n",
       "      <th>29995</th>\n",
       "      <td>0</td>\n",
       "      <td>0</td>\n",
       "      <td>0.947114</td>\n",
       "      <td>1.591386</td>\n",
       "      <td>42550.0</td>\n",
       "      <td>120891.500000</td>\n",
       "      <td>0.157166</td>\n",
       "      <td>39</td>\n",
       "      <td>0.193409</td>\n",
       "      <td>0</td>\n",
       "    </tr>\n",
       "    <tr>\n",
       "      <th>29996</th>\n",
       "      <td>-1</td>\n",
       "      <td>-1</td>\n",
       "      <td>0.059860</td>\n",
       "      <td>2.543386</td>\n",
       "      <td>14490.0</td>\n",
       "      <td>3530.333333</td>\n",
       "      <td>2.548768</td>\n",
       "      <td>43</td>\n",
       "      <td>0.096600</td>\n",
       "      <td>0</td>\n",
       "    </tr>\n",
       "    <tr>\n",
       "      <th>29997</th>\n",
       "      <td>4</td>\n",
       "      <td>3</td>\n",
       "      <td>0.695933</td>\n",
       "      <td>1.542215</td>\n",
       "      <td>31300.0</td>\n",
       "      <td>11749.333333</td>\n",
       "      <td>1.872447</td>\n",
       "      <td>37</td>\n",
       "      <td>1.043333</td>\n",
       "      <td>1</td>\n",
       "    </tr>\n",
       "    <tr>\n",
       "      <th>29998</th>\n",
       "      <td>1</td>\n",
       "      <td>-1</td>\n",
       "      <td>0.979738</td>\n",
       "      <td>1.800916</td>\n",
       "      <td>147181.0</td>\n",
       "      <td>44435.166667</td>\n",
       "      <td>1.906643</td>\n",
       "      <td>41</td>\n",
       "      <td>1.839762</td>\n",
       "      <td>1</td>\n",
       "    </tr>\n",
       "    <tr>\n",
       "      <th>29999</th>\n",
       "      <td>0</td>\n",
       "      <td>0</td>\n",
       "      <td>0.995280</td>\n",
       "      <td>0.895320</td>\n",
       "      <td>8308.0</td>\n",
       "      <td>38479.000000</td>\n",
       "      <td>0.028015</td>\n",
       "      <td>46</td>\n",
       "      <td>0.166160</td>\n",
       "      <td>1</td>\n",
       "    </tr>\n",
       "  </tbody>\n",
       "</table>\n",
       "<p>30000 rows × 10 columns</p>\n",
       "</div>"
      ],
      "text/plain": [
       "       pay_0  pay_2  max_bill_to_cred_lim  adjusted_bill_var  Total_Pay_Amt  \\\n",
       "0          2      2              0.195650           3.047508          689.0   \n",
       "1         -1      2              0.028792           0.607835         5000.0   \n",
       "2          0      0              0.324878           0.925501        11018.0   \n",
       "3          0      0              0.985820           0.544070         8388.0   \n",
       "4         -1      0              0.716700           1.655311        59049.0   \n",
       "...      ...    ...                   ...                ...            ...   \n",
       "29995      0      0              0.947114           1.591386        42550.0   \n",
       "29996     -1     -1              0.059860           2.543386        14490.0   \n",
       "29997      4      3              0.695933           1.542215        31300.0   \n",
       "29998      1     -1              0.979738           1.800916       147181.0   \n",
       "29999      0      0              0.995280           0.895320         8308.0   \n",
       "\n",
       "        avg_bill_amt  adjusted_pay_variance  age  paid_limit_ratio  \\\n",
       "0        1284.000000               0.536604   24          0.034450   \n",
       "1        2846.166667               0.702700   26          0.041667   \n",
       "2       16942.166667               0.236097   34          0.122422   \n",
       "3       38555.666667               0.026429   37          0.167760   \n",
       "4       18223.166667               1.975617   57          1.180980   \n",
       "...              ...                    ...  ...               ...   \n",
       "29995  120891.500000               0.157166   39          0.193409   \n",
       "29996    3530.333333               2.548768   43          0.096600   \n",
       "29997   11749.333333               1.872447   37          1.043333   \n",
       "29998   44435.166667               1.906643   41          1.839762   \n",
       "29999   38479.000000               0.028015   46          0.166160   \n",
       "\n",
       "       default_payment  \n",
       "0                    1  \n",
       "1                    1  \n",
       "2                    0  \n",
       "3                    0  \n",
       "4                    0  \n",
       "...                ...  \n",
       "29995                0  \n",
       "29996                0  \n",
       "29997                1  \n",
       "29998                1  \n",
       "29999                1  \n",
       "\n",
       "[30000 rows x 10 columns]"
      ]
     },
     "execution_count": 10,
     "metadata": {},
     "output_type": "execute_result"
    }
   ],
   "source": [
    "model_df"
   ]
  },
  {
   "cell_type": "code",
   "execution_count": 11,
   "metadata": {},
   "outputs": [
    {
     "data": {
      "text/plain": [
       "(29130, 10)"
      ]
     },
     "execution_count": 11,
     "metadata": {},
     "output_type": "execute_result"
    }
   ],
   "source": [
    "#drop null vals\n",
    "model_df.replace([np.inf, -np.inf], np.nan, inplace=True)\n",
    "model_df.dropna(inplace = True)\n",
    "model_df.shape"
   ]
  },
  {
   "cell_type": "code",
   "execution_count": 12,
   "metadata": {},
   "outputs": [
    {
     "name": "stdout",
     "output_type": "stream",
     "text": [
      "<class 'pandas.core.frame.DataFrame'>\n",
      "Int64Index: 29130 entries, 0 to 29999\n",
      "Data columns (total 10 columns):\n",
      " #   Column                 Non-Null Count  Dtype  \n",
      "---  ------                 --------------  -----  \n",
      " 0   pay_0                  29130 non-null  int64  \n",
      " 1   pay_2                  29130 non-null  int64  \n",
      " 2   max_bill_to_cred_lim   29130 non-null  float64\n",
      " 3   adjusted_bill_var      29130 non-null  float64\n",
      " 4   Total_Pay_Amt          29130 non-null  float64\n",
      " 5   avg_bill_amt           29130 non-null  float64\n",
      " 6   adjusted_pay_variance  29130 non-null  float64\n",
      " 7   age                    29130 non-null  int64  \n",
      " 8   paid_limit_ratio       29130 non-null  float64\n",
      " 9   default_payment        29130 non-null  int64  \n",
      "dtypes: float64(6), int64(4)\n",
      "memory usage: 2.4 MB\n"
     ]
    }
   ],
   "source": [
    "model_df.info()"
   ]
  },
  {
   "cell_type": "code",
   "execution_count": 13,
   "metadata": {},
   "outputs": [
    {
     "data": {
      "text/plain": [
       "<matplotlib.axes._subplots.AxesSubplot at 0x7fef3cbea2b0>"
      ]
     },
     "execution_count": 13,
     "metadata": {},
     "output_type": "execute_result"
    },
    {
     "data": {
      "image/png": "[encoded data removed]",
      "text/plain": [
       "<Figure size 1080x1080 with 2 Axes>"
      ]
     },
     "metadata": {
      "needs_background": "light"
     },
     "output_type": "display_data"
    }
   ],
   "source": [
    "import seaborn as sns\n",
    "import matplotlib.pyplot as plt\n",
    "plt.figure(figsize = (15,15))\n",
    "sns.heatmap(model_df.corr())"
   ]
  },
  {
   "cell_type": "code",
   "execution_count": 14,
   "metadata": {},
   "outputs": [],
   "source": [
    "#split\n",
    "from sklearn.model_selection import train_test_split\n",
    "\n",
    "import pickle\n",
    "\n",
    "X, y = model_df.iloc[:,:-1], model_df['default_payment']\n",
    "\n",
    "X_train, X_test, y_train, y_test = train_test_split(X,y)\n",
    "\n",
    "#rebalance\n",
    "from imblearn.over_sampling import RandomOverSampler\n",
    "import imblearn.over_sampling\n",
    "n_pos = np.sum(y_train == 1)\n",
    "n_neg = np.sum(y_train == 0)\n",
    "ratio = {1 : n_pos * 3, 0 : n_neg}\n",
    "ROS = RandomOverSampler(sampling_strategy = ratio, random_state=42)    \n",
    "X_tr_rs, y_tr_rs = ROS.fit_sample(X_train, y_train)\n",
    "\n",
    "#scale\n",
    "from sklearn.preprocessing import StandardScaler\n",
    "scaler = StandardScaler()\n",
    "X_tr = scaler.fit_transform(X_tr_rs)\n",
    "X_te = scaler.transform(X_test)\n",
    "\n",
    "pickle.dump(scaler, open('scaler.pkl', 'wb'))\n"
   ]
  },
  {
   "cell_type": "code",
   "execution_count": null,
   "metadata": {},
   "outputs": [],
   "source": []
  },
  {
   "cell_type": "code",
   "execution_count": 26,
   "metadata": {},
   "outputs": [
    {
     "name": "stdout",
     "output_type": "stream",
     "text": [
      "{'max_depth': 30, 'n_estimators': 300}\n",
      "CPU times: user 5min 50s, sys: 6.11 s, total: 5min 56s\n",
      "Wall time: 6min 47s\n"
     ]
    }
   ],
   "source": [
    "%%time\n",
    "from sklearn.model_selection import GridSearchCV\n",
    "from sklearn.ensemble import RandomForestClassifier\n",
    "\n",
    "rf = RandomForestClassifier()\n",
    "param_grid = {\n",
    "    'n_estimators': [300],\n",
    "    'max_depth': [10,20,30]\n",
    "}\n",
    "\n",
    "grid_search = GridSearchCV(estimator=rf,\n",
    "             param_grid=param_grid, scoring = 'recall', cv = 5)\n",
    "\n",
    "grid_search.fit(X_tr, y_tr_rs)\n",
    "best_params = grid_search.best_params_\n",
    "print(best_params)"
   ]
  },
  {
   "cell_type": "code",
   "execution_count": 27,
   "metadata": {},
   "outputs": [
    {
     "data": {
      "text/plain": [
       "RandomForestClassifier(max_depth=30, n_estimators=300)"
      ]
     },
     "execution_count": 27,
     "metadata": {},
     "output_type": "execute_result"
    }
   ],
   "source": [
    "#fit model\n",
    "from sklearn.ensemble import RandomForestClassifier\n",
    "rfc = RandomForestClassifier(n_estimators = best_params['n_estimators'],\n",
    "                             max_depth = best_params['max_depth'])\n",
    "\n",
    "# rfc = RandomForestClassifier(n_estimators = 200,\n",
    "#                               max_depth = 70)\n",
    "\n",
    "rfc.fit(X_tr, y_tr_rs)\n",
    "\n"
   ]
  },
  {
   "cell_type": "code",
   "execution_count": 28,
   "metadata": {},
   "outputs": [],
   "source": [
    "#pckage"
   ]
  },
  {
   "cell_type": "code",
   "execution_count": null,
   "metadata": {},
   "outputs": [],
   "source": []
  },
  {
   "cell_type": "code",
   "execution_count": 29,
   "metadata": {},
   "outputs": [
    {
     "name": "stdout",
     "output_type": "stream",
     "text": [
      "accuracy:  0.8131264588768364\n",
      "recall:  0.4370651486401012\n",
      "f1:  0.5038279256288735\n"
     ]
    }
   ],
   "source": [
    "y_pred = rfc.predict(X_te)\n",
    "from sklearn.metrics import recall_score, accuracy_score, f1_score\n",
    "\n",
    "print('accuracy: ', accuracy_score(y_test, y_pred))\n",
    "print('recall: ', recall_score(y_test, y_pred))\n",
    "print('f1: ', f1_score(y_test, y_pred))"
   ]
  },
  {
   "cell_type": "code",
   "execution_count": 30,
   "metadata": {},
   "outputs": [
    {
     "data": {
      "text/plain": [
       "LogisticRegression()"
      ]
     },
     "execution_count": 30,
     "metadata": {},
     "output_type": "execute_result"
    }
   ],
   "source": [
    "from sklearn.linear_model import LogisticRegression\n",
    "lr = LogisticRegression()\n",
    "\n",
    "lr.fit(X_tr, y_tr_rs)\n"
   ]
  },
  {
   "cell_type": "code",
   "execution_count": 31,
   "metadata": {},
   "outputs": [
    {
     "name": "stdout",
     "output_type": "stream",
     "text": [
      "accuracy:  0.8044761773994233\n",
      "recall:  0.49019607843137253\n",
      "f1:  0.5211835911230666\n",
      "recall_cv_lr 0.486728761165719\n",
      "recall_cv_rfc 0.9486817328029457\n"
     ]
    }
   ],
   "source": [
    "y_pred = lr.predict(X_te)\n",
    "from sklearn.metrics import recall_score, accuracy_score, f1_score\n",
    "from sklearn.model_selection import cross_val_score\n",
    "from sklearn.model_selection import KFold\n",
    "\n",
    "kf = KFold(n_splits=5, shuffle=True, random_state = 71)\n",
    "\n",
    "\n",
    "print('accuracy: ', accuracy_score(y_test, y_pred))\n",
    "print('recall: ', recall_score(y_test, y_pred))\n",
    "print('f1: ', f1_score(y_test, y_pred))\n",
    "print('recall_cv_lr', np.mean(cross_val_score(lr, X_tr, y_tr_rs, cv=kf, scoring='recall')))\n",
    "print('recall_cv_rfc', np.mean(cross_val_score(rfc, X_tr, y_tr_rs, cv=kf, scoring='recall')))"
   ]
  },
  {
   "cell_type": "code",
   "execution_count": 32,
   "metadata": {},
   "outputs": [
    {
     "name": "stdout",
     "output_type": "stream",
     "text": [
      "accuracy:  0.5559522174927914\n",
      "recall:  0.7735610373181531\n",
      "f1:  0.43063380281690145\n",
      "recall_cv_gnb 0.6956050635916894\n",
      "recall_cv_rfc 0.9482592959350582\n"
     ]
    }
   ],
   "source": [
    "from sklearn.naive_bayes import GaussianNB\n",
    "gnb = GaussianNB()\n",
    "\n",
    "gnb.fit(X_tr, y_tr_rs)\n",
    "\n",
    "y_pred = gnb.predict(X_te)\n",
    "from sklearn.metrics import recall_score, accuracy_score, f1_score\n",
    "from sklearn.model_selection import cross_val_score\n",
    "from sklearn.model_selection import KFold\n",
    "\n",
    "kf = KFold(n_splits=5, shuffle=True, random_state = 71)\n",
    "\n",
    "\n",
    "print('accuracy: ', accuracy_score(y_test, y_pred))\n",
    "print('recall: ', recall_score(y_test, y_pred))\n",
    "print('f1: ', f1_score(y_test, y_pred))\n",
    "print('recall_cv_gnb', np.mean(cross_val_score(gnb, X_tr, y_tr_rs, cv=kf, scoring='recall')))\n",
    "print('recall_cv_rfc', np.mean(cross_val_score(rfc, X_tr, y_tr_rs, cv=kf, scoring='recall')))"
   ]
  },
  {
   "cell_type": "code",
   "execution_count": 33,
   "metadata": {},
   "outputs": [],
   "source": [
    "# from sklearn.neighbors import KNeighborsClassifier\n",
    "\n",
    "# knn = KNeighborsClassifier()\n",
    "# param_grid = {\n",
    "#     'n_neighbors':[1,2,3,4,5,6,7,8,9,10]\n",
    "# }\n",
    "\n",
    "# grid_search = GridSearchCV(estimator=knn,\n",
    "#              param_grid=param_grid, scoring = 'recall', cv = 5)\n",
    "\n",
    "# grid_search.fit(X_tr, y_tr_rs)\n",
    "# best_params = grid_search.best_params_\n",
    "# print(best_params)\n"
   ]
  },
  {
   "cell_type": "code",
   "execution_count": 34,
   "metadata": {},
   "outputs": [],
   "source": [
    "\n",
    "# KNN = KNeighborsClassifier(n_neighbors = best_params['n_neighbors'])\n",
    "# KNN.fit(X_tr, y_tr_rs)\n",
    "# y_pred = KNN.predict(X_te)\n",
    "\n",
    "\n",
    "\n",
    "# print('accuracy: ', accuracy_score(y_test, y_pred))\n",
    "# print('recall: ', recall_score(y_test, y_pred))\n",
    "# print('f1: ', f1_score(y_test, y_pred))\n",
    "# print('recall_cv_gnb', np.mean(cross_val_score(gnb, X_tr, y_tr_rs, cv=kf, scoring='recall')))\n",
    "# print('recall_cv_rfc', np.mean(cross_val_score(rfc, X_tr, y_tr_rs, cv=kf, scoring='recall')))\n",
    "# print('recall_cv_knn', np.mean(cross_val_score(KNN, X_tr, y_tr_rs, cv=kf, scoring='recall')))"
   ]
  },
  {
   "cell_type": "code",
   "execution_count": 35,
   "metadata": {},
   "outputs": [],
   "source": [
    "import pickle\n",
    "model = rfc\n",
    "pickle.dump(model, open('pickled_model2.p', 'wb'))"
   ]
  },
  {
   "cell_type": "code",
   "execution_count": 36,
   "metadata": {},
   "outputs": [
    {
     "ename": "AttributeError",
     "evalue": "'numpy.ndarray' object has no attribute 'columns'",
     "output_type": "error",
     "traceback": [
      "\u001b[0;31m---------------------------------------------------------------------------\u001b[0m",
      "\u001b[0;31mAttributeError\u001b[0m                            Traceback (most recent call last)",
      "\u001b[0;32m<ipython-input-36-7382bf82dddb>\u001b[0m in \u001b[0;36m<module>\u001b[0;34m\u001b[0m\n\u001b[0;32m----> 1\u001b[0;31m \u001b[0mX_tr\u001b[0m\u001b[0;34m.\u001b[0m\u001b[0mcolumns\u001b[0m\u001b[0;34m\u001b[0m\u001b[0;34m\u001b[0m\u001b[0m\n\u001b[0m",
      "\u001b[0;31mAttributeError\u001b[0m: 'numpy.ndarray' object has no attribute 'columns'"
     ]
    }
   ],
   "source": [
    "X_tr.columns"
   ]
  },
  {
   "cell_type": "code",
   "execution_count": null,
   "metadata": {},
   "outputs": [],
   "source": [
    "X_tr.describe()\n"
   ]
  },
  {
   "cell_type": "code",
   "execution_count": null,
   "metadata": {},
   "outputs": [],
   "source": []
  }
 ],
 "metadata": {
  "kernelspec": {
   "display_name": "Python [conda env:metis] *",
   "language": "python",
   "name": "conda-env-metis-py"
  },
  "language_info": {
   "codemirror_mode": {
    "name": "ipython",
    "version": 3
   },
   "file_extension": ".py",
   "mimetype": "text/x-python",
   "name": "python",
   "nbconvert_exporter": "python",
   "pygments_lexer": "ipython3",
   "version": "3.8.3"
  }
 },
 "nbformat": 4,
 "nbformat_minor": 4
}
